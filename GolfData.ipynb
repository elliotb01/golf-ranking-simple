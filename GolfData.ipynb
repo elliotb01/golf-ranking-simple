{
  "nbformat": 4,
  "nbformat_minor": 0,
  "metadata": {
    "colab": {
      "provenance": [],
      "authorship_tag": "ABX9TyMyLZGsQMuuj3FAnsJaCty4",
      "include_colab_link": true
    },
    "kernelspec": {
      "name": "python3",
      "display_name": "Python 3"
    },
    "language_info": {
      "name": "python"
    }
  },
  "cells": [
    {
      "cell_type": "markdown",
      "metadata": {
        "id": "view-in-github",
        "colab_type": "text"
      },
      "source": [
        "<a href=\"https://colab.research.google.com/github/elliotb01/golf-ranking-simple/blob/main/GolfData.ipynb\" target=\"_parent\"><img src=\"https://colab.research.google.com/assets/colab-badge.svg\" alt=\"Open In Colab\"/></a>"
      ]
    },
    {
      "cell_type": "code",
      "source": [
        "import pandas as pd\n",
        "\n",
        "golf_data = pd.read_html('https://en.wikipedia.org/wiki/PGA_Championship#Records')[2]\n",
        "golf_data = golf_data[['Year', 'Winner', 'Runner(s)-up']].dropna()\n",
        "\n",
        "# Removes white space\n",
        "def clean_name(name):\n",
        "    return name.strip()\n",
        "\n",
        "# Score dictionary\n",
        "scores = {}\n",
        "\n",
        "def add_score(name, points):\n",
        "    name = clean_name(name)\n",
        "    if name:\n",
        "        scores[name] = scores.get(name, 0) + points # If name is not in dictionary then it returns 0 added to points added.\n",
        "\n",
        "# Add score\n",
        "for _, row in golf_data.iterrows(): # _, is used because the index is not needed.\n",
        "    add_score(row['Winner'], 5)\n",
        "\n",
        "    # Keeps names by parsing\n",
        "    runners = row['Runner(s)-up'].strip().split()\n",
        "    runners = [' '.join(runners[i:i+2]) for i in range(0, len(runners), 2)]\n",
        "\n",
        "    for i, name in enumerate(runners[:3]):\n",
        "        add_score(name, [3, 2, 1][i])\n",
        "\n",
        "# Top players\n",
        "top_players = sorted(scores.items(), key=lambda x: x[1], reverse=True)[:2]\n",
        "top_names = [name for name, _ in top_players]\n",
        "\n",
        "# Track win/run-up years for top players\n",
        "player_years = {player: {'Winner': [], 'Runner-up': []} for player in top_names}\n",
        "\n",
        "for _, row in golf_data.iterrows():\n",
        "    year = row['Year']\n",
        "    winner = clean_name(row['Winner'])\n",
        "\n",
        "    runners = row['Runner(s)-up'].strip().split()\n",
        "    runners = [' '.join(runners[i:i+2]) for i in range(0, len(runners), 2)]\n",
        "\n",
        "    for player in top_names:\n",
        "        if player in winner:\n",
        "            player_years[player]['Winner'].append(year)\n",
        "        elif player in runners:\n",
        "            player_years[player]['Runner-up'].append(year)\n",
        "\n",
        "# Output\n",
        "print(\"\\nTop 5 Players by Score:\")\n",
        "for name, score in sorted(scores.items(), key=lambda x: x[1], reverse=True)[:5]:\n",
        "    print(f\"{name} - {score}\")\n",
        "\n",
        "for player in top_names:\n",
        "    print(f\"\\n{player}\")\n",
        "    print(f\"  Winner in: {player_years[player]['Winner']}\")\n",
        "    print(f\"  Runner-up in: {player_years[player]['Runner-up']}\")\n"
      ],
      "metadata": {
        "colab": {
          "base_uri": "https://localhost:8080/"
        },
        "id": "zJSMuRM-ABbA",
        "outputId": "d55b7af0-4b9a-460c-8d01-99d9a37dc6b8"
      },
      "execution_count": null,
      "outputs": [
        {
          "output_type": "stream",
          "name": "stdout",
          "text": [
            "\n",
            "Top 5 Players by Score:\n",
            "Jack Nicklaus | 16\n",
            "Tiger Woods | 14\n",
            "Lanny Wadkins | 13\n",
            "Phil Mickelson | 11\n",
            "Gary Player | 11\n",
            "\n",
            "Jack Nicklaus\n",
            "  Winner in: [1980, 1975, 1973, 1971, 1963]\n",
            "  Runner-up in: [1983, 1974, 1965, 1964]\n",
            "\n",
            "Tiger Woods\n",
            "  Winner in: [2007, 2006, 2000, 1999]\n",
            "  Runner-up in: [2018, 2009, 2002]\n"
          ]
        }
      ]
    }
  ]
}